{
 "cells": [
  {
   "cell_type": "markdown",
   "id": "43a8356c",
   "metadata": {},
   "source": []
  }
 ],
 "metadata": {
  "language_info": {
   "name": "python"
  }
 },
 "nbformat": 4,
 "nbformat_minor": 5
}
